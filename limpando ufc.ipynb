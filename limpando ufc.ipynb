{
 "cells": [
  {
   "cell_type": "markdown",
   "id": "1bcbcfb0-c3a0-48a6-a058-e72ee6a0e498",
   "metadata": {},
   "source": [
    "# Dados UFC\n",
    "\n",
    "-> Lutadores\n",
    "- Altura (inches)\n",
    "- Peso (libras)\n",
    "- Alcance (inches)\n",
    "- Posição (Otodóxo ou Trocado)\n",
    "\n",
    "    \n",
    "-> Lutas anteriores de cada lutador   \n",
    "- Lista de dicionários (corrigir)\n",
    "  - wl - ganho ou perda\n",
    "  - oponente\n",
    "  - método\n",
    "  - tempo\n",
    "  - round\n",
    "\n",
    "## ETL\n",
    "\n",
    "Extração - Tratamento - Carregamento\n",
    "\n",
    "Extraction - Treatment - Loading "
   ]
  },
  {
   "cell_type": "code",
   "execution_count": 1,
   "id": "15de1058-ee49-4613-9970-9c7d50a81bce",
   "metadata": {},
   "outputs": [],
   "source": [
    "# importar bibliotecas\n",
    "import pandas as pd\n",
    "import numpy as np"
   ]
  },
  {
   "cell_type": "code",
   "execution_count": 22,
   "id": "56c600ea-cc3c-4051-ac90-5979cd567dc0",
   "metadata": {},
   "outputs": [
    {
     "data": {
      "text/html": [
       "<div>\n",
       "<style scoped>\n",
       "    .dataframe tbody tr th:only-of-type {\n",
       "        vertical-align: middle;\n",
       "    }\n",
       "\n",
       "    .dataframe tbody tr th {\n",
       "        vertical-align: top;\n",
       "    }\n",
       "\n",
       "    .dataframe thead th {\n",
       "        text-align: right;\n",
       "    }\n",
       "</style>\n",
       "<table border=\"1\" class=\"dataframe\">\n",
       "  <thead>\n",
       "    <tr style=\"text-align: right;\">\n",
       "      <th></th>\n",
       "      <th>FIGHTER</th>\n",
       "      <th>HEIGHT</th>\n",
       "      <th>WEIGHT</th>\n",
       "      <th>REACH</th>\n",
       "      <th>STANCE</th>\n",
       "      <th>DOB</th>\n",
       "      <th>url</th>\n",
       "      <th>past_fights</th>\n",
       "    </tr>\n",
       "  </thead>\n",
       "  <tbody>\n",
       "    <tr>\n",
       "      <th>0</th>\n",
       "      <td>Tom Aaron</td>\n",
       "      <td>--</td>\n",
       "      <td>155 lbs.</td>\n",
       "      <td>--</td>\n",
       "      <td>NaN</td>\n",
       "      <td>Jul 13, 1978</td>\n",
       "      <td>http://ufcstats.com/fighter-details/93fe7332d1...</td>\n",
       "      <td>[{'wl': 'loss', 'opponent': 'Matt Ricehouse', ...</td>\n",
       "    </tr>\n",
       "    <tr>\n",
       "      <th>1</th>\n",
       "      <td>Danny Abbadi</td>\n",
       "      <td>5' 11\"</td>\n",
       "      <td>155 lbs.</td>\n",
       "      <td>--</td>\n",
       "      <td>Orthodox</td>\n",
       "      <td>Jul 03, 1983</td>\n",
       "      <td>http://ufcstats.com/fighter-details/15df64c02b...</td>\n",
       "      <td>[{'wl': 'loss', 'opponent': 'Jorge Gurgel', 'm...</td>\n",
       "    </tr>\n",
       "    <tr>\n",
       "      <th>2</th>\n",
       "      <td>David Abbott</td>\n",
       "      <td>6' 0\"</td>\n",
       "      <td>265 lbs.</td>\n",
       "      <td>--</td>\n",
       "      <td>Switch</td>\n",
       "      <td>--</td>\n",
       "      <td>http://ufcstats.com/fighter-details/b361180739...</td>\n",
       "      <td>[{'wl': 'loss', 'opponent': 'Kevin Ferguson', ...</td>\n",
       "    </tr>\n",
       "    <tr>\n",
       "      <th>3</th>\n",
       "      <td>Shamil Abdurakhimov</td>\n",
       "      <td>6' 3\"</td>\n",
       "      <td>235 lbs.</td>\n",
       "      <td>76\"</td>\n",
       "      <td>Orthodox</td>\n",
       "      <td>Sep 02, 1981</td>\n",
       "      <td>http://ufcstats.com/fighter-details/2f5cbecbbe...</td>\n",
       "      <td>[{'wl': 'loss', 'opponent': 'Jailton Almeida',...</td>\n",
       "    </tr>\n",
       "    <tr>\n",
       "      <th>4</th>\n",
       "      <td>Hiroyuki Abe</td>\n",
       "      <td>5' 6\"</td>\n",
       "      <td>145 lbs.</td>\n",
       "      <td>--</td>\n",
       "      <td>Orthodox</td>\n",
       "      <td>--</td>\n",
       "      <td>http://ufcstats.com/fighter-details/c0ed7b2081...</td>\n",
       "      <td>[{'wl': 'draw', 'opponent': 'Naoki Matsushita'...</td>\n",
       "    </tr>\n",
       "  </tbody>\n",
       "</table>\n",
       "</div>"
      ],
      "text/plain": [
       "               FIGHTER  HEIGHT    WEIGHT REACH    STANCE           DOB  \\\n",
       "0            Tom Aaron      --  155 lbs.    --       NaN  Jul 13, 1978   \n",
       "1         Danny Abbadi  5' 11\"  155 lbs.    --  Orthodox  Jul 03, 1983   \n",
       "2         David Abbott   6' 0\"  265 lbs.    --    Switch            --   \n",
       "3  Shamil Abdurakhimov   6' 3\"  235 lbs.   76\"  Orthodox  Sep 02, 1981   \n",
       "4         Hiroyuki Abe   5' 6\"  145 lbs.    --  Orthodox            --   \n",
       "\n",
       "                                                 url  \\\n",
       "0  http://ufcstats.com/fighter-details/93fe7332d1...   \n",
       "1  http://ufcstats.com/fighter-details/15df64c02b...   \n",
       "2  http://ufcstats.com/fighter-details/b361180739...   \n",
       "3  http://ufcstats.com/fighter-details/2f5cbecbbe...   \n",
       "4  http://ufcstats.com/fighter-details/c0ed7b2081...   \n",
       "\n",
       "                                         past_fights  \n",
       "0  [{'wl': 'loss', 'opponent': 'Matt Ricehouse', ...  \n",
       "1  [{'wl': 'loss', 'opponent': 'Jorge Gurgel', 'm...  \n",
       "2  [{'wl': 'loss', 'opponent': 'Kevin Ferguson', ...  \n",
       "3  [{'wl': 'loss', 'opponent': 'Jailton Almeida',...  \n",
       "4  [{'wl': 'draw', 'opponent': 'Naoki Matsushita'...  "
      ]
     },
     "execution_count": 22,
     "metadata": {},
     "output_type": "execute_result"
    }
   ],
   "source": [
    "# carregar dataframe\n",
    "df = pd.read_csv('cleaned_parsed_ufc_fighters.csv')\n",
    "\n",
    "# visualizar dataframe\n",
    "df.head()"
   ]
  },
  {
   "cell_type": "code",
   "execution_count": 4,
   "id": "0165b475-aa29-4b6e-a76f-6ed61f63829a",
   "metadata": {},
   "outputs": [
    {
     "name": "stdout",
     "output_type": "stream",
     "text": [
      "<class 'pandas.core.frame.DataFrame'>\n",
      "RangeIndex: 4197 entries, 0 to 4196\n",
      "Data columns (total 8 columns):\n",
      " #   Column       Non-Null Count  Dtype \n",
      "---  ------       --------------  ----- \n",
      " 0   FIGHTER      4197 non-null   object\n",
      " 1   HEIGHT       4197 non-null   object\n",
      " 2   WEIGHT       4197 non-null   object\n",
      " 3   REACH        4197 non-null   object\n",
      " 4   STANCE       2941 non-null   object\n",
      " 5   DOB          4197 non-null   object\n",
      " 6   url          4197 non-null   object\n",
      " 7   past_fights  4197 non-null   object\n",
      "dtypes: object(8)\n",
      "memory usage: 262.4+ KB\n"
     ]
    }
   ],
   "source": [
    "df.info()"
   ]
  },
  {
   "cell_type": "code",
   "execution_count": null,
   "id": "04cdee2e-fefe-4a23-af1b-d5dda2ec74b2",
   "metadata": {},
   "outputs": [],
   "source": []
  },
  {
   "cell_type": "code",
   "execution_count": null,
   "id": "f34906a0-8bb6-4669-ad9c-bb013ac95d15",
   "metadata": {},
   "outputs": [],
   "source": []
  }
 ],
 "metadata": {
  "kernelspec": {
   "display_name": "Python 3 (ipykernel)",
   "language": "python",
   "name": "python3"
  },
  "language_info": {
   "codemirror_mode": {
    "name": "ipython",
    "version": 3
   },
   "file_extension": ".py",
   "mimetype": "text/x-python",
   "name": "python",
   "nbconvert_exporter": "python",
   "pygments_lexer": "ipython3",
   "version": "3.11.5"
  }
 },
 "nbformat": 4,
 "nbformat_minor": 5
}
